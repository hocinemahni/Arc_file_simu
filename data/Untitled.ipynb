{
 "cells": [
  {
   "cell_type": "code",
   "execution_count": 8,
   "id": "58a472df",
   "metadata": {},
   "outputs": [],
   "source": [
    "import pandas as pd\n",
    "import random\n",
    "\n",
    "\n"
   ]
  },
  {
   "cell_type": "code",
   "execution_count": 3,
   "id": "eaa36648",
   "metadata": {},
   "outputs": [],
   "source": [
    "import os\n",
    "\n",
    "# Set an environment variable\n",
    "os.environ['PYDEVD_DISABLE_FILE_VALIDATION'] = '1'"
   ]
  },
  {
   "cell_type": "code",
   "execution_count": 10,
   "id": "69d328c6",
   "metadata": {},
   "outputs": [
    {
     "ename": "NameError",
     "evalue": "name 'NotebookApp' is not defined",
     "output_type": "error",
     "traceback": [
      "\u001b[1;31m---------------------------------------------------------------------------\u001b[0m",
      "\u001b[1;31mNameError\u001b[0m                                 Traceback (most recent call last)",
      "Cell \u001b[1;32mIn[10], line 1\u001b[0m\n\u001b[1;32m----> 1\u001b[0m \u001b[43mNotebookApp\u001b[49m\u001b[38;5;241m.\u001b[39miopub_data_rate_limit\u001b[38;5;241m=\u001b[39m\u001b[38;5;241m1000000000\u001b[39m\n",
      "\u001b[1;31mNameError\u001b[0m: name 'NotebookApp' is not defined"
     ]
    }
   ],
   "source": [
    "NotebookApp.iopub_data_rate_limit=1000000000\n",
    "\n",
    "\n"
   ]
  },
  {
   "cell_type": "code",
   "execution_count": 13,
   "id": "432630cc",
   "metadata": {},
   "outputs": [
    {
     "name": "stdout",
     "output_type": "stream",
     "text": [
      "Fichiers générés avec succès.\n"
     ]
    }
   ],
   "source": [
    "def generate_io(filename, file_size):\n",
    "    offset = random.randint(0, file_size - 1)\n",
    "    offsetend = random.randint(offset + 1, file_size)\n",
    "    return (filename, offset, offsetend)\n",
    "\n",
    "# Changer le nombre de fichiers à générer\n",
    "num_files = 60\n",
    "\n",
    "file_names = []\n",
    "files_data = []\n",
    "for i in range(1, num_files + 1):\n",
    "    filename = f\"/home/pop/fichier{i}.txt\"\n",
    "    size = random.randint(5, 450)\n",
    "    while filename in file_names:\n",
    "        filename = f\"/home/pop/fichier{random.randint(1, 100)}.txt\"\n",
    "    file_names.append(filename)\n",
    "    files_data.append((filename, size))\n",
    "\n",
    "files_df = pd.DataFrame(files_data, columns=[\"filename\", \"size\"])\n",
    "files_df.to_csv(\"filess2.csv\", index=False)\n",
    "\n",
    "# Changer le nombre d'I/O par fichier\n",
    "min_ios_per_file = 1\n",
    "max_ios_per_file = 10\n",
    "\n",
    "ios_data = []\n",
    "for _, row in files_df.iterrows():\n",
    "    filename = row[\"filename\"]\n",
    "    size = row[\"size\"]\n",
    "    num_ios = random.randint(min_ios_per_file, max_ios_per_file)\n",
    "    for _ in range(num_ios):\n",
    "        ios_data.append(generate_io(filename, size))\n",
    "\n",
    "ios_df = pd.DataFrame(ios_data, columns=[\"filename\", \"offset\", \"offsetend\"])\n",
    "ios_df.to_csv(\"ioss2.csv\", index=False)\n",
    "\n",
    "print(\"Fichiers générés avec succès.\")"
   ]
  },
  {
   "cell_type": "code",
   "execution_count": null,
   "id": "43b16c67",
   "metadata": {},
   "outputs": [],
   "source": []
  }
 ],
 "metadata": {
  "kernelspec": {
   "display_name": "Python 3 (ipykernel)",
   "language": "python",
   "name": "python3"
  },
  "language_info": {
   "codemirror_mode": {
    "name": "ipython",
    "version": 3
   },
   "file_extension": ".py",
   "mimetype": "text/x-python",
   "name": "python",
   "nbconvert_exporter": "python",
   "pygments_lexer": "ipython3",
   "version": "3.10.6"
  }
 },
 "nbformat": 4,
 "nbformat_minor": 5
}
